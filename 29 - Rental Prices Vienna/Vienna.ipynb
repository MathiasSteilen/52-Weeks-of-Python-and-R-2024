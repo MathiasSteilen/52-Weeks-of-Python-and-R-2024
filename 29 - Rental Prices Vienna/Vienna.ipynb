{
 "cells": [
  {
   "cell_type": "code",
   "execution_count": 81,
   "metadata": {},
   "outputs": [],
   "source": [
    "import pandas as pd\n",
    "import numpy as np\n",
    "from selenium import webdriver\n",
    "from selenium.webdriver.common.keys import Keys\n",
    "from selenium.webdriver.common.by import By\n",
    "\n",
    "import pandas as pd\n",
    "import numpy as np"
   ]
  },
  {
   "cell_type": "code",
   "execution_count": 82,
   "metadata": {},
   "outputs": [],
   "source": [
    "# Convert a list to a dictionary two elements at a time\n",
    "def Convert(lst):\n",
    "    res_dct = {lst[i]: lst[i + 1] for i in range(0, len(lst), 2)}\n",
    "    return res_dct"
   ]
  },
  {
   "cell_type": "code",
   "execution_count": 102,
   "metadata": {},
   "outputs": [],
   "source": [
    "driver = webdriver.Chrome()"
   ]
  },
  {
   "attachments": {},
   "cell_type": "markdown",
   "metadata": {},
   "source": [
    "Is it really 10k listings in one page? Press x for doubt"
   ]
  },
  {
   "cell_type": "code",
   "execution_count": 103,
   "metadata": {},
   "outputs": [],
   "source": [
    "driver.get('https://www.willhaben.at/iad/immobilien/mietwohnungen/mietwohnung-angebote?xtor=SEC-311-GOO&pls_source=google&pls_medium=Social&pls_campaign=neubau&g=Both&locations=austria&site=willhabenat&gclid=Cj0KCQiAw8OeBhCeARIsAGxWtUxNHiDGZEhSsqxjkHwEd_2CCq60RX7VHu1j1_amT7biXqb47T7Fw_oaAlYtEALw_wcB&sfId=c7bdd018-c536-4fdf-8c68-41336f3b3fe0&isNavigation=true&sort=1&areaId=900&page=1&rows=90')\n",
    "driver.implicitly_wait(10)"
   ]
  },
  {
   "attachments": {},
   "cell_type": "markdown",
   "metadata": {},
   "source": [
    "Get rid of cookies:"
   ]
  },
  {
   "cell_type": "code",
   "execution_count": 104,
   "metadata": {},
   "outputs": [],
   "source": [
    "driver.find_element(by=By.ID, value='didomi-notice-agree-button').click()"
   ]
  },
  {
   "cell_type": "code",
   "execution_count": 105,
   "metadata": {},
   "outputs": [
    {
     "data": {
      "text/plain": [
       "[<selenium.webdriver.remote.webelement.WebElement (session=\"5bd1f9879e3de69e455dbbde4b09fc77\", element=\"498af56d-b325-4931-ac84-7361b8d4c418\")>,\n",
       " <selenium.webdriver.remote.webelement.WebElement (session=\"5bd1f9879e3de69e455dbbde4b09fc77\", element=\"0e949e7c-f965-4b41-8211-ca0e57019d70\")>,\n",
       " <selenium.webdriver.remote.webelement.WebElement (session=\"5bd1f9879e3de69e455dbbde4b09fc77\", element=\"e9ad0845-502a-4923-900a-717416b0cf79\")>,\n",
       " <selenium.webdriver.remote.webelement.WebElement (session=\"5bd1f9879e3de69e455dbbde4b09fc77\", element=\"a85f3e43-dcfb-4f59-a327-00a52a5354cd\")>,\n",
       " <selenium.webdriver.remote.webelement.WebElement (session=\"5bd1f9879e3de69e455dbbde4b09fc77\", element=\"24127311-8e50-4576-863a-2ed86e6c6b21\")>,\n",
       " <selenium.webdriver.remote.webelement.WebElement (session=\"5bd1f9879e3de69e455dbbde4b09fc77\", element=\"99aa260b-6f2d-4c8c-b266-e776e08f38fb\")>,\n",
       " <selenium.webdriver.remote.webelement.WebElement (session=\"5bd1f9879e3de69e455dbbde4b09fc77\", element=\"134b9352-7dd2-4926-8d9d-204651558df1\")>,\n",
       " <selenium.webdriver.remote.webelement.WebElement (session=\"5bd1f9879e3de69e455dbbde4b09fc77\", element=\"eb4a8efd-1201-4b60-b054-287fe224e552\")>,\n",
       " <selenium.webdriver.remote.webelement.WebElement (session=\"5bd1f9879e3de69e455dbbde4b09fc77\", element=\"cdc3c188-e248-4dc2-85e2-4597056a6a20\")>,\n",
       " <selenium.webdriver.remote.webelement.WebElement (session=\"5bd1f9879e3de69e455dbbde4b09fc77\", element=\"ad227aa4-ed69-417b-99e5-1cbc893229fe\")>,\n",
       " <selenium.webdriver.remote.webelement.WebElement (session=\"5bd1f9879e3de69e455dbbde4b09fc77\", element=\"0882d44f-8296-421c-ab5d-1edc44b28c30\")>,\n",
       " <selenium.webdriver.remote.webelement.WebElement (session=\"5bd1f9879e3de69e455dbbde4b09fc77\", element=\"cbbe941b-c98a-4eee-9f84-ec1862accebf\")>,\n",
       " <selenium.webdriver.remote.webelement.WebElement (session=\"5bd1f9879e3de69e455dbbde4b09fc77\", element=\"9284af8d-1589-4772-b1bd-6cc2586353e1\")>,\n",
       " <selenium.webdriver.remote.webelement.WebElement (session=\"5bd1f9879e3de69e455dbbde4b09fc77\", element=\"d332eea7-840d-4ccd-ae85-31bf21cde84c\")>,\n",
       " <selenium.webdriver.remote.webelement.WebElement (session=\"5bd1f9879e3de69e455dbbde4b09fc77\", element=\"1eb88482-2ec1-43b7-9390-bc6bae495ef1\")>,\n",
       " <selenium.webdriver.remote.webelement.WebElement (session=\"5bd1f9879e3de69e455dbbde4b09fc77\", element=\"a739a76f-a9ab-4548-85ae-104bea4c32a2\")>,\n",
       " <selenium.webdriver.remote.webelement.WebElement (session=\"5bd1f9879e3de69e455dbbde4b09fc77\", element=\"e586eddc-bdb5-4aea-84b8-763838b0a213\")>,\n",
       " <selenium.webdriver.remote.webelement.WebElement (session=\"5bd1f9879e3de69e455dbbde4b09fc77\", element=\"94b0508c-05f8-4219-8ceb-68b4cfcdef8b\")>,\n",
       " <selenium.webdriver.remote.webelement.WebElement (session=\"5bd1f9879e3de69e455dbbde4b09fc77\", element=\"b336b08c-f361-4892-979b-f621dacd873c\")>,\n",
       " <selenium.webdriver.remote.webelement.WebElement (session=\"5bd1f9879e3de69e455dbbde4b09fc77\", element=\"83d686a7-e285-4ae8-9000-14ff1052fc92\")>,\n",
       " <selenium.webdriver.remote.webelement.WebElement (session=\"5bd1f9879e3de69e455dbbde4b09fc77\", element=\"226a97c2-d899-4d4c-81d4-538acbf11c5a\")>,\n",
       " <selenium.webdriver.remote.webelement.WebElement (session=\"5bd1f9879e3de69e455dbbde4b09fc77\", element=\"201c5d81-e8fb-4617-a91f-3a25849015d2\")>,\n",
       " <selenium.webdriver.remote.webelement.WebElement (session=\"5bd1f9879e3de69e455dbbde4b09fc77\", element=\"37fa4b9c-148d-4374-b3f1-6fa294ada064\")>,\n",
       " <selenium.webdriver.remote.webelement.WebElement (session=\"5bd1f9879e3de69e455dbbde4b09fc77\", element=\"4df1ddc0-2b76-456d-b023-a4ab945f5298\")>,\n",
       " <selenium.webdriver.remote.webelement.WebElement (session=\"5bd1f9879e3de69e455dbbde4b09fc77\", element=\"5c6ba47a-cb12-40d2-9433-434258c69646\")>,\n",
       " <selenium.webdriver.remote.webelement.WebElement (session=\"5bd1f9879e3de69e455dbbde4b09fc77\", element=\"3ef29f37-2d91-4937-bf05-20961db1edb8\")>,\n",
       " <selenium.webdriver.remote.webelement.WebElement (session=\"5bd1f9879e3de69e455dbbde4b09fc77\", element=\"18a879f1-d4af-4adf-9dc0-346c92c7c331\")>,\n",
       " <selenium.webdriver.remote.webelement.WebElement (session=\"5bd1f9879e3de69e455dbbde4b09fc77\", element=\"8d375851-031d-42cb-93bf-7fe00db603a5\")>,\n",
       " <selenium.webdriver.remote.webelement.WebElement (session=\"5bd1f9879e3de69e455dbbde4b09fc77\", element=\"5809055c-ef1c-4975-9fd3-9cd2db551d31\")>,\n",
       " <selenium.webdriver.remote.webelement.WebElement (session=\"5bd1f9879e3de69e455dbbde4b09fc77\", element=\"609eac20-8e09-4ca4-9c92-79ff958eaf2e\")>,\n",
       " <selenium.webdriver.remote.webelement.WebElement (session=\"5bd1f9879e3de69e455dbbde4b09fc77\", element=\"1164e968-a284-481b-b6e4-63dd650ffa69\")>,\n",
       " <selenium.webdriver.remote.webelement.WebElement (session=\"5bd1f9879e3de69e455dbbde4b09fc77\", element=\"2f9e2fbf-c608-47b8-8448-225ae15f6888\")>,\n",
       " <selenium.webdriver.remote.webelement.WebElement (session=\"5bd1f9879e3de69e455dbbde4b09fc77\", element=\"f745e283-a6b7-428e-8bfd-b13e8455d992\")>,\n",
       " <selenium.webdriver.remote.webelement.WebElement (session=\"5bd1f9879e3de69e455dbbde4b09fc77\", element=\"591c1b50-9c4a-4fc5-be28-7687f1553631\")>,\n",
       " <selenium.webdriver.remote.webelement.WebElement (session=\"5bd1f9879e3de69e455dbbde4b09fc77\", element=\"9f055f26-52a4-48b8-8c8a-9aa0c0e66abe\")>,\n",
       " <selenium.webdriver.remote.webelement.WebElement (session=\"5bd1f9879e3de69e455dbbde4b09fc77\", element=\"3a584dd7-0d03-482a-885e-956a43ac177e\")>,\n",
       " <selenium.webdriver.remote.webelement.WebElement (session=\"5bd1f9879e3de69e455dbbde4b09fc77\", element=\"9161bed8-3c84-4e7f-9758-8f1a1ef89093\")>,\n",
       " <selenium.webdriver.remote.webelement.WebElement (session=\"5bd1f9879e3de69e455dbbde4b09fc77\", element=\"eec7e595-0327-4432-9b71-610038812b41\")>,\n",
       " <selenium.webdriver.remote.webelement.WebElement (session=\"5bd1f9879e3de69e455dbbde4b09fc77\", element=\"83ec4698-21a7-46ff-b733-aaa513b68934\")>,\n",
       " <selenium.webdriver.remote.webelement.WebElement (session=\"5bd1f9879e3de69e455dbbde4b09fc77\", element=\"223ece5a-5d3d-46bf-849b-c888dca11d83\")>,\n",
       " <selenium.webdriver.remote.webelement.WebElement (session=\"5bd1f9879e3de69e455dbbde4b09fc77\", element=\"5e0fb818-abe7-4d77-add7-1d012ad5ff03\")>,\n",
       " <selenium.webdriver.remote.webelement.WebElement (session=\"5bd1f9879e3de69e455dbbde4b09fc77\", element=\"0668f7be-7332-4360-b75a-0fa882d97729\")>,\n",
       " <selenium.webdriver.remote.webelement.WebElement (session=\"5bd1f9879e3de69e455dbbde4b09fc77\", element=\"ba49cf0b-8a29-4f97-abfb-689cbf5ee36f\")>,\n",
       " <selenium.webdriver.remote.webelement.WebElement (session=\"5bd1f9879e3de69e455dbbde4b09fc77\", element=\"44b34ac2-68ee-48f0-a7c8-dd6bc7a8cc0e\")>,\n",
       " <selenium.webdriver.remote.webelement.WebElement (session=\"5bd1f9879e3de69e455dbbde4b09fc77\", element=\"89a8ddb1-f03f-4f82-a9b0-b96cbc2698de\")>,\n",
       " <selenium.webdriver.remote.webelement.WebElement (session=\"5bd1f9879e3de69e455dbbde4b09fc77\", element=\"e15c685c-5637-42ba-9652-17c0a31ca410\")>,\n",
       " <selenium.webdriver.remote.webelement.WebElement (session=\"5bd1f9879e3de69e455dbbde4b09fc77\", element=\"0274532e-6556-46af-894f-8e54a3939c2c\")>,\n",
       " <selenium.webdriver.remote.webelement.WebElement (session=\"5bd1f9879e3de69e455dbbde4b09fc77\", element=\"55e86fe2-b472-4d6b-90cd-4b9c43b6ce40\")>,\n",
       " <selenium.webdriver.remote.webelement.WebElement (session=\"5bd1f9879e3de69e455dbbde4b09fc77\", element=\"ba12e960-e5f7-4c68-bc0d-ef9025f68fdb\")>,\n",
       " <selenium.webdriver.remote.webelement.WebElement (session=\"5bd1f9879e3de69e455dbbde4b09fc77\", element=\"f69533ee-5b32-4568-952a-90e52610936d\")>,\n",
       " <selenium.webdriver.remote.webelement.WebElement (session=\"5bd1f9879e3de69e455dbbde4b09fc77\", element=\"5772dc87-7360-4e33-93af-0abca8dbb6f3\")>,\n",
       " <selenium.webdriver.remote.webelement.WebElement (session=\"5bd1f9879e3de69e455dbbde4b09fc77\", element=\"ca546c06-fd69-4126-a4e4-768132ee392e\")>,\n",
       " <selenium.webdriver.remote.webelement.WebElement (session=\"5bd1f9879e3de69e455dbbde4b09fc77\", element=\"8b29113c-3916-4a39-a3fb-81063312e2ba\")>,\n",
       " <selenium.webdriver.remote.webelement.WebElement (session=\"5bd1f9879e3de69e455dbbde4b09fc77\", element=\"c4f83873-b24c-478a-ac08-398e6772b9bf\")>,\n",
       " <selenium.webdriver.remote.webelement.WebElement (session=\"5bd1f9879e3de69e455dbbde4b09fc77\", element=\"5e21f7d9-0dec-4844-bbef-260c12c012b7\")>,\n",
       " <selenium.webdriver.remote.webelement.WebElement (session=\"5bd1f9879e3de69e455dbbde4b09fc77\", element=\"39d01e1f-f3e9-4a99-b1b0-abb634efc7f9\")>,\n",
       " <selenium.webdriver.remote.webelement.WebElement (session=\"5bd1f9879e3de69e455dbbde4b09fc77\", element=\"4072e2a2-d15a-4c1b-ba39-e1f834e743e2\")>,\n",
       " <selenium.webdriver.remote.webelement.WebElement (session=\"5bd1f9879e3de69e455dbbde4b09fc77\", element=\"324eff40-db1f-47cb-a3f7-0893d0187f4a\")>,\n",
       " <selenium.webdriver.remote.webelement.WebElement (session=\"5bd1f9879e3de69e455dbbde4b09fc77\", element=\"008cdf10-c9c2-4b87-b910-e5a0ec9d1ff7\")>,\n",
       " <selenium.webdriver.remote.webelement.WebElement (session=\"5bd1f9879e3de69e455dbbde4b09fc77\", element=\"a756e235-6812-4d2a-bff8-9661c599fbc4\")>,\n",
       " <selenium.webdriver.remote.webelement.WebElement (session=\"5bd1f9879e3de69e455dbbde4b09fc77\", element=\"7a210784-04d9-44e8-a6c4-b87e1ed0c873\")>,\n",
       " <selenium.webdriver.remote.webelement.WebElement (session=\"5bd1f9879e3de69e455dbbde4b09fc77\", element=\"2993faf6-91e4-42da-9327-b9bc1f13b6da\")>,\n",
       " <selenium.webdriver.remote.webelement.WebElement (session=\"5bd1f9879e3de69e455dbbde4b09fc77\", element=\"38eab353-643b-449f-a427-5e2d6e9eeb5a\")>,\n",
       " <selenium.webdriver.remote.webelement.WebElement (session=\"5bd1f9879e3de69e455dbbde4b09fc77\", element=\"54777103-2738-487a-bfa0-5e5b44698cdc\")>,\n",
       " <selenium.webdriver.remote.webelement.WebElement (session=\"5bd1f9879e3de69e455dbbde4b09fc77\", element=\"c0004aec-ee46-4816-90cf-d240f1b9f7ce\")>,\n",
       " <selenium.webdriver.remote.webelement.WebElement (session=\"5bd1f9879e3de69e455dbbde4b09fc77\", element=\"07896b70-33fe-4134-ac44-4b31f358485e\")>,\n",
       " <selenium.webdriver.remote.webelement.WebElement (session=\"5bd1f9879e3de69e455dbbde4b09fc77\", element=\"916b1123-e541-478a-a7c8-bd6b6e69e7db\")>,\n",
       " <selenium.webdriver.remote.webelement.WebElement (session=\"5bd1f9879e3de69e455dbbde4b09fc77\", element=\"b2a83913-c72f-4905-907e-db1663cd6be4\")>,\n",
       " <selenium.webdriver.remote.webelement.WebElement (session=\"5bd1f9879e3de69e455dbbde4b09fc77\", element=\"db8d084b-6804-4259-a9c7-cde013a383c7\")>,\n",
       " <selenium.webdriver.remote.webelement.WebElement (session=\"5bd1f9879e3de69e455dbbde4b09fc77\", element=\"fa3ffeb9-a4e5-4278-b367-8fe7d74615f3\")>,\n",
       " <selenium.webdriver.remote.webelement.WebElement (session=\"5bd1f9879e3de69e455dbbde4b09fc77\", element=\"b3e10134-0cb0-4130-ab73-3ac97011ca6c\")>,\n",
       " <selenium.webdriver.remote.webelement.WebElement (session=\"5bd1f9879e3de69e455dbbde4b09fc77\", element=\"c32f023b-0bb2-46c0-815d-a4b6edcb3328\")>,\n",
       " <selenium.webdriver.remote.webelement.WebElement (session=\"5bd1f9879e3de69e455dbbde4b09fc77\", element=\"7c567087-d10f-4832-a0d7-bad8f1d2fbe7\")>,\n",
       " <selenium.webdriver.remote.webelement.WebElement (session=\"5bd1f9879e3de69e455dbbde4b09fc77\", element=\"dd6f52fb-1947-4ff4-b8d9-e0e40e1e9474\")>,\n",
       " <selenium.webdriver.remote.webelement.WebElement (session=\"5bd1f9879e3de69e455dbbde4b09fc77\", element=\"1fe286ae-3fa3-454d-b560-0f987650d5b2\")>,\n",
       " <selenium.webdriver.remote.webelement.WebElement (session=\"5bd1f9879e3de69e455dbbde4b09fc77\", element=\"2b73a350-84ce-4179-b71c-cc4ba8043a19\")>,\n",
       " <selenium.webdriver.remote.webelement.WebElement (session=\"5bd1f9879e3de69e455dbbde4b09fc77\", element=\"f570ac58-a358-49dd-a326-b445e0c07331\")>,\n",
       " <selenium.webdriver.remote.webelement.WebElement (session=\"5bd1f9879e3de69e455dbbde4b09fc77\", element=\"e8c9e4a6-8c81-46ff-9920-70c7d6d0c205\")>,\n",
       " <selenium.webdriver.remote.webelement.WebElement (session=\"5bd1f9879e3de69e455dbbde4b09fc77\", element=\"e0e66b14-8ff6-4916-aff1-02b7852cc2a3\")>,\n",
       " <selenium.webdriver.remote.webelement.WebElement (session=\"5bd1f9879e3de69e455dbbde4b09fc77\", element=\"9408aac8-9542-414b-afd5-a6be92093651\")>,\n",
       " <selenium.webdriver.remote.webelement.WebElement (session=\"5bd1f9879e3de69e455dbbde4b09fc77\", element=\"b6fd670c-fb83-4016-afb5-5594f0399cb5\")>,\n",
       " <selenium.webdriver.remote.webelement.WebElement (session=\"5bd1f9879e3de69e455dbbde4b09fc77\", element=\"c1b5bdb9-28d8-4d70-a726-4a30b2daea6b\")>,\n",
       " <selenium.webdriver.remote.webelement.WebElement (session=\"5bd1f9879e3de69e455dbbde4b09fc77\", element=\"64a4cbad-2293-4de3-a425-dba37f466f8c\")>,\n",
       " <selenium.webdriver.remote.webelement.WebElement (session=\"5bd1f9879e3de69e455dbbde4b09fc77\", element=\"fb39be10-9673-40b2-97c1-32f197755fbf\")>,\n",
       " <selenium.webdriver.remote.webelement.WebElement (session=\"5bd1f9879e3de69e455dbbde4b09fc77\", element=\"a4460c0c-379c-4ece-bfbe-b44989f8ff88\")>,\n",
       " <selenium.webdriver.remote.webelement.WebElement (session=\"5bd1f9879e3de69e455dbbde4b09fc77\", element=\"6f30d5d4-294a-4fbb-84d2-d52a3ecb08ba\")>,\n",
       " <selenium.webdriver.remote.webelement.WebElement (session=\"5bd1f9879e3de69e455dbbde4b09fc77\", element=\"f47b601f-ae8d-4c54-85ae-240f5aab9d18\")>,\n",
       " <selenium.webdriver.remote.webelement.WebElement (session=\"5bd1f9879e3de69e455dbbde4b09fc77\", element=\"c7198879-bd64-45bb-9c5b-1321bce33096\")>,\n",
       " <selenium.webdriver.remote.webelement.WebElement (session=\"5bd1f9879e3de69e455dbbde4b09fc77\", element=\"a0ff5633-aebf-497c-b6d3-015c94af93c8\")>,\n",
       " <selenium.webdriver.remote.webelement.WebElement (session=\"5bd1f9879e3de69e455dbbde4b09fc77\", element=\"7cf13f95-ee45-47d3-9e11-0cd27199f67c\")>,\n",
       " <selenium.webdriver.remote.webelement.WebElement (session=\"5bd1f9879e3de69e455dbbde4b09fc77\", element=\"608ef06d-1364-4811-834d-42e25e127991\")>,\n",
       " <selenium.webdriver.remote.webelement.WebElement (session=\"5bd1f9879e3de69e455dbbde4b09fc77\", element=\"8a8ba42c-86b2-4f1a-8729-ead3308fdea9\")>,\n",
       " <selenium.webdriver.remote.webelement.WebElement (session=\"5bd1f9879e3de69e455dbbde4b09fc77\", element=\"52852b36-fe70-4d85-873a-2b4574a1cf27\")>,\n",
       " <selenium.webdriver.remote.webelement.WebElement (session=\"5bd1f9879e3de69e455dbbde4b09fc77\", element=\"2c4bffb5-fdde-408d-9abf-d0275c349e20\")>,\n",
       " <selenium.webdriver.remote.webelement.WebElement (session=\"5bd1f9879e3de69e455dbbde4b09fc77\", element=\"e759e87f-8228-4016-845e-866e2bab3538\")>,\n",
       " <selenium.webdriver.remote.webelement.WebElement (session=\"5bd1f9879e3de69e455dbbde4b09fc77\", element=\"a25ca18a-8c60-41a9-a555-0faf9e3ad003\")>,\n",
       " <selenium.webdriver.remote.webelement.WebElement (session=\"5bd1f9879e3de69e455dbbde4b09fc77\", element=\"1ddfd6c4-ccc9-453f-8aa6-5b9738a6f79b\")>,\n",
       " <selenium.webdriver.remote.webelement.WebElement (session=\"5bd1f9879e3de69e455dbbde4b09fc77\", element=\"8b04f9c0-6c45-4af9-ac71-0010d7a22e2f\")>,\n",
       " <selenium.webdriver.remote.webelement.WebElement (session=\"5bd1f9879e3de69e455dbbde4b09fc77\", element=\"a1ff2000-8b6e-437d-b065-f8e2ae77cbbd\")>,\n",
       " <selenium.webdriver.remote.webelement.WebElement (session=\"5bd1f9879e3de69e455dbbde4b09fc77\", element=\"0e4920d4-f1bb-47e4-929c-bb00eafad316\")>,\n",
       " <selenium.webdriver.remote.webelement.WebElement (session=\"5bd1f9879e3de69e455dbbde4b09fc77\", element=\"2b95c619-edb4-45c5-b0e8-d0e55781989a\")>,\n",
       " <selenium.webdriver.remote.webelement.WebElement (session=\"5bd1f9879e3de69e455dbbde4b09fc77\", element=\"01422cb7-de17-41a9-a8a4-bf455278dd66\")>,\n",
       " <selenium.webdriver.remote.webelement.WebElement (session=\"5bd1f9879e3de69e455dbbde4b09fc77\", element=\"a2ab91bb-5890-4fe0-af13-c43683ccf176\")>,\n",
       " <selenium.webdriver.remote.webelement.WebElement (session=\"5bd1f9879e3de69e455dbbde4b09fc77\", element=\"e0dfa7eb-af9c-4cfc-aff7-7632fab55e88\")>]"
      ]
     },
     "execution_count": 105,
     "metadata": {},
     "output_type": "execute_result"
    }
   ],
   "source": [
    "driver.find_elements(by=By.CSS_SELECTOR, value='#skip-to-resultlist > div')"
   ]
  },
  {
   "cell_type": "code",
   "execution_count": 107,
   "metadata": {},
   "outputs": [
    {
     "data": {
      "text/plain": [
       "[]"
      ]
     },
     "execution_count": 107,
     "metadata": {},
     "output_type": "execute_result"
    }
   ],
   "source": [
    "driver.find_elements(by=By.CSS_SELECTOR, value='#search-result-entry-header-642270931 > div.Box-sc-wfmb7k-0.gsnrmZ > div.Box-sc-wfmb7k-0.cNKJte > h3'   )"
   ]
  },
  {
   "attachments": {},
   "cell_type": "markdown",
   "metadata": {},
   "source": [
    "Trying IMMMO: 747 pages"
   ]
  },
  {
   "cell_type": "code",
   "execution_count": 79,
   "metadata": {},
   "outputs": [],
   "source": [
    "driver.get('https://www.immmo.at/immo/Wohnung-mieten/Wien/1')"
   ]
  },
  {
   "cell_type": "code",
   "execution_count": 80,
   "metadata": {},
   "outputs": [
    {
     "name": "stdout",
     "output_type": "stream",
     "text": [
      "€ 16,71 / m²\n",
      "€ 13,77 / m²\n",
      "€ 16,94 / m²\n",
      "€ 18,03 / m²\n",
      "€ 14,92 / m²\n",
      "€ 16,93 / m²\n",
      "€ 18,81 / m²\n",
      "€ 26,05 / m²\n",
      "€ 16,21 / m²\n",
      "€ 15,34 / m²\n",
      "€ 14,96 / m²\n",
      "€ 16,24 / m²\n"
     ]
    }
   ],
   "source": [
    "for item in driver.find_elements(by=By.CSS_SELECTOR, value='.size'):\n",
    "    print(item.text)"
   ]
  },
  {
   "cell_type": "code",
   "execution_count": 74,
   "metadata": {},
   "outputs": [
    {
     "name": "stdout",
     "output_type": "stream",
     "text": [
      "3 Zimmer\n",
      "2 Zimmer\n",
      "4 Zimmer\n",
      "2 Zimmer\n",
      "3 Zimmer\n",
      "2 Zimmer\n",
      "2 Zimmer\n",
      "3 Zimmer\n",
      "2 Zimmer\n",
      "2 Zimmer\n",
      "2 Zimmer\n",
      "2 Zimmer\n"
     ]
    }
   ],
   "source": [
    "for item in driver.find_elements(by=By.CSS_SELECTOR, value='.num-rooms'):\n",
    "    print(item.text)"
   ]
  },
  {
   "cell_type": "code",
   "execution_count": 73,
   "metadata": {},
   "outputs": [
    {
     "name": "stdout",
     "output_type": "stream",
     "text": [
      "Wien\n",
      "Wien\n",
      "Wien\n",
      "Wien\n",
      "Wien\n",
      "Wien\n",
      "Wien\n",
      "Wien\n",
      "Wien\n",
      "Wien\n",
      "Wien\n",
      "Wien\n"
     ]
    }
   ],
   "source": [
    "for item in driver.find_elements(by=By.CSS_SELECTOR, value='.result-details mark+ mark'):\n",
    "    print(item.text)"
   ]
  },
  {
   "cell_type": "code",
   "execution_count": 71,
   "metadata": {},
   "outputs": [
    {
     "name": "stdout",
     "output_type": "stream",
     "text": [
      "1190\n",
      "1190\n",
      "1020\n",
      "1220\n",
      "1210\n",
      "1010\n",
      "1140\n",
      "1010\n",
      "1140\n",
      "1180\n",
      "1030\n",
      "1060\n"
     ]
    }
   ],
   "source": [
    "for item in driver.find_elements(by=By.CSS_SELECTOR, value='.result-details mark:nth-child(1)'):\n",
    "    print(item.text)"
   ]
  },
  {
   "cell_type": "code",
   "execution_count": 69,
   "metadata": {},
   "outputs": [
    {
     "name": "stdout",
     "output_type": "stream",
     "text": [
      "€ 1.199,46\n",
      "\n",
      "€ 968,70\n",
      "\n",
      "€ 3.100,-\n",
      "\n",
      "€ 853,32\n",
      "\n",
      "€ 1.189,19\n",
      "\n",
      "€ 1.216,-\n",
      "\n",
      "€ 869,21\n",
      "\n",
      "€ 3.250,01\n",
      "\n",
      "€ 849,-\n",
      "\n",
      "€ 712,49\n",
      "\n",
      "€ 799,01\n",
      "\n",
      "€ 699,92\n",
      "\n"
     ]
    }
   ],
   "source": [
    "for item in driver.find_elements(by=By.CSS_SELECTOR, value='.price'):\n",
    "    print(item.text)"
   ]
  },
  {
   "cell_type": "code",
   "execution_count": 76,
   "metadata": {},
   "outputs": [
    {
     "name": "stdout",
     "output_type": "stream",
     "text": [
      "www.dibeo.at\n",
      "www.dibeo.at\n",
      "www.dibeo.at\n",
      "www.dibeo.at\n",
      "www.dibeo.at\n",
      "www.findmyhome.at\n",
      "www.dibeo.at/\n",
      "www.dibeo.at\n",
      "www.dibeo.at\n",
      "www.dibeo.at\n",
      "www.dibeo.at\n",
      "www.dibeo.at\n"
     ]
    }
   ],
   "source": [
    "for item in driver.find_elements(by=By.CSS_SELECTOR, value='.wrapper-external-link .js-track-click'):\n",
    "    print(item.text)"
   ]
  },
  {
   "cell_type": "code",
   "execution_count": 77,
   "metadata": {},
   "outputs": [
    {
     "name": "stdout",
     "output_type": "stream",
     "text": [
      "25.01.2023\n",
      "25.01.2023\n",
      "25.01.2023\n",
      "25.01.2023\n",
      "25.01.2023\n",
      "25.01.2023\n",
      "25.01.2023\n",
      "25.01.2023\n",
      "25.01.2023\n",
      "25.01.2023\n",
      "25.01.2023\n",
      "25.01.2023\n"
     ]
    }
   ],
   "source": [
    "for item in driver.find_elements(by=By.CSS_SELECTOR, value='time'):\n",
    "    print(item.text)"
   ]
  },
  {
   "cell_type": "code",
   "execution_count": 78,
   "metadata": {},
   "outputs": [
    {
     "name": "stdout",
     "output_type": "stream",
     "text": [
      "#WG-geeignet\n",
      "#\n",
      "#Kellerabteil\n",
      "#\n",
      "#Altbau\n",
      "#\n",
      "#ruhig\n",
      "#\n",
      "#unbefristet\n",
      "#\n",
      "#Altbau\n",
      "#\n",
      "#Parkmöglichkeit\n",
      "#\n",
      "#Terrasse\n",
      "#\n",
      "#hell\n",
      "#\n",
      "#Balkon\n",
      "#\n",
      "#Garten\n",
      "#\n",
      "#Terrasse\n",
      "#\n",
      "#hell\n",
      "#\n",
      "#ruhig\n",
      "#\n",
      "#Dachgeschoss\n",
      "#\n",
      "#Erstbezug\n",
      "#\n",
      "#Terrasse\n",
      "#\n",
      "#ruhig\n",
      "#\n",
      "#Altbau\n",
      "#\n",
      "#unbefristet\n",
      "#\n",
      "#Dachgeschoss\n",
      "#\n",
      "#Altbau\n",
      "#\n",
      "#Balkon\n",
      "#\n",
      "#Terrasse\n",
      "#\n",
      "#hell\n",
      "#\n",
      "#möbliert\n",
      "#\n",
      "#Büro\n",
      "#\n",
      "#Altbau\n",
      "#\n",
      "#Parkmöglichkeit\n",
      "#\n",
      "#unbefristet\n",
      "#\n",
      "#Balkon\n",
      "#\n",
      "#Kellerabteil\n",
      "#\n",
      "#Parkmöglichkeit\n",
      "#\n",
      "#Altbau\n",
      "#\n",
      "#hell\n",
      "#\n",
      "#Büro\n",
      "#\n",
      "#Balkon\n",
      "#\n",
      "#Kellerabteil\n",
      "#\n",
      "#hell\n",
      "#\n",
      "#Garten\n",
      "#\n",
      "#Kellerabteil\n",
      "#\n",
      "#barrierefrei\n",
      "#\n",
      "#hell\n",
      "#\n"
     ]
    }
   ],
   "source": [
    "for item in driver.find_elements(by=By.CSS_SELECTOR, value='.hide-narrow span'):\n",
    "    print(item.text)"
   ]
  }
 ],
 "metadata": {
  "kernelspec": {
   "display_name": "Python 3",
   "language": "python",
   "name": "python3"
  },
  "language_info": {
   "codemirror_mode": {
    "name": "ipython",
    "version": 3
   },
   "file_extension": ".py",
   "mimetype": "text/x-python",
   "name": "python",
   "nbconvert_exporter": "python",
   "pygments_lexer": "ipython3",
   "version": "3.10.5 (tags/v3.10.5:f377153, Jun  6 2022, 16:14:13) [MSC v.1929 64 bit (AMD64)]"
  },
  "orig_nbformat": 4,
  "vscode": {
   "interpreter": {
    "hash": "607db476e417971f05b607c2dd14e77ee8262c2c4c20dea422522c60605a222a"
   }
  }
 },
 "nbformat": 4,
 "nbformat_minor": 2
}
